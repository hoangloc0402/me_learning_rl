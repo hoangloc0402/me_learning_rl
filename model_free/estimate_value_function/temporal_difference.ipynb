{
 "cells": [
  {
   "cell_type": "code",
   "execution_count": 1,
   "metadata": {},
   "outputs": [],
   "source": [
    "import numpy as np\n",
    "import gym"
   ]
  },
  {
   "cell_type": "code",
   "execution_count": 13,
   "metadata": {},
   "outputs": [],
   "source": [
    "MAP =  [\n",
    "    'S-------',\n",
    "    '--------',\n",
    "    '--------',\n",
    "    '--------',\n",
    "    '----H---',\n",
    "    '--------',\n",
    "    '-H------',\n",
    "    '---H---G',\n",
    "]\n",
    "MAP_SIZE = (8, 8)\n",
    "MAP_STRING = ''.join(MAP)\n",
    "ACTION_MAPPING = {0: '←', 1: '↓', 2: '→', 3: '↑'}\n",
    "\n",
    "ENV = gym.make('FrozenLake8x8-v0')\n",
    "gym.envs.toy_text.frozen_lake.MAPS['8x8'] = MAP\n",
    "ENV = gym.make('FrozenLake8x8-v0', is_slippery=False)\n",
    "\n",
    "ALL_STATE = range(ENV.nS)\n",
    "ALL_ACTION = range(ENV.nA)"
   ]
  },
  {
   "cell_type": "code",
   "execution_count": 14,
   "metadata": {},
   "outputs": [],
   "source": [
    "def print_state_value_func(V: np.ndarray, precision=3):\n",
    "    rounded = np.round_(V, precision).reshape(MAP_SIZE)\n",
    "    print(' V(s):\\n', rounded, '\\n')"
   ]
  },
  {
   "cell_type": "code",
   "execution_count": 15,
   "metadata": {},
   "outputs": [],
   "source": [
    "def temporal_difference_evaluation(env,\n",
    "                                   alpha = 0.5,\n",
    "                                   discount_factor = 1.0,\n",
    "                                   max_iteration = 9999):\n",
    "    # Init policy with equal prob for all actions\n",
    "    policy = np.ones([env.nS, env.nA]) / env.nA\n",
    "\n",
    "    V = np.zeros(env.nS)\n",
    "\n",
    "    for _ in range(max_iteration):\n",
    "        state = env.reset()\n",
    "        terminated = False\n",
    "        \n",
    "        while not terminated:                \n",
    "            action = np.random.choice(\n",
    "                ALL_ACTION,\n",
    "                p=policy[state].tolist()\n",
    "            )\n",
    "            next_state, reward, terminated, info = env.step(action)\n",
    "\n",
    "            TD_target = reward + discount_factor * V[next_state]\n",
    "            V[state] += alpha * (TD_target - V[state])\n",
    "\n",
    "            state = next_state\n",
    "\n",
    "    print_state_value_func(V)\n",
    "    return V"
   ]
  },
  {
   "cell_type": "code",
   "execution_count": 16,
   "metadata": {},
   "outputs": [
    {
     "name": "stdout",
     "output_type": "stream",
     "text": [
      " V(s):\n",
      " [[0. 0. 0. 0. 1. 1. 1. 0.]\n",
      " [0. 0. 0. 0. 0. 1. 0. 0.]\n",
      " [0. 0. 0. 0. 0. 0. 0. 0.]\n",
      " [0. 0. 0. 0. 0. 0. 0. 0.]\n",
      " [0. 0. 0. 0. 0. 0. 0. 1.]\n",
      " [0. 0. 0. 0. 0. 0. 1. 1.]\n",
      " [0. 0. 0. 0. 0. 1. 1. 1.]\n",
      " [0. 0. 0. 0. 0. 0. 1. 0.]] \n",
      "\n"
     ]
    }
   ],
   "source": [
    "V1 = temporal_difference_evaluation(ENV, alpha = 1)"
   ]
  },
  {
   "cell_type": "code",
   "execution_count": 17,
   "metadata": {},
   "outputs": [
    {
     "name": "stdout",
     "output_type": "stream",
     "text": [
      " V(s):\n",
      " [[0.074 0.077 0.11  0.117 0.141 0.242 0.275 0.294]\n",
      " [0.037 0.08  0.092 0.092 0.216 0.196 0.177 0.364]\n",
      " [0.032 0.046 0.066 0.038 0.156 0.19  0.343 0.345]\n",
      " [0.026 0.026 0.027 0.031 0.008 0.04  0.111 0.314]\n",
      " [0.008 0.013 0.043 0.044 0.    0.012 0.123 0.481]\n",
      " [0.006 0.007 0.04  0.109 0.19  0.178 0.49  0.832]\n",
      " [0.001 0.    0.064 0.031 0.083 0.257 0.716 0.966]\n",
      " [0.001 0.    0.    0.    0.01  0.57  0.938 0.   ]] \n",
      "\n"
     ]
    }
   ],
   "source": [
    "V2 = temporal_difference_evaluation(ENV, alpha = 0.8)"
   ]
  },
  {
   "cell_type": "code",
   "execution_count": 18,
   "metadata": {},
   "outputs": [
    {
     "name": "stdout",
     "output_type": "stream",
     "text": [
      " V(s):\n",
      " [[0.061 0.068 0.068 0.071 0.078 0.089 0.123 0.129]\n",
      " [0.048 0.061 0.061 0.066 0.078 0.087 0.135 0.131]\n",
      " [0.044 0.055 0.055 0.076 0.082 0.14  0.152 0.195]\n",
      " [0.033 0.038 0.05  0.073 0.041 0.161 0.164 0.181]\n",
      " [0.012 0.026 0.036 0.073 0.    0.12  0.219 0.286]\n",
      " [0.004 0.004 0.018 0.077 0.098 0.33  0.347 0.488]\n",
      " [0.003 0.    0.038 0.078 0.301 0.312 0.369 0.75 ]\n",
      " [0.009 0.006 0.009 0.    0.023 0.221 0.637 0.   ]] \n",
      "\n"
     ]
    }
   ],
   "source": [
    "V3 = temporal_difference_evaluation(ENV, alpha = 0.5)"
   ]
  },
  {
   "cell_type": "code",
   "execution_count": 19,
   "metadata": {},
   "outputs": [
    {
     "name": "stdout",
     "output_type": "stream",
     "text": [
      " V(s):\n",
      " [[0.059 0.066 0.072 0.08  0.092 0.109 0.128 0.139]\n",
      " [0.057 0.064 0.067 0.088 0.09  0.1   0.144 0.155]\n",
      " [0.048 0.05  0.064 0.061 0.091 0.139 0.186 0.17 ]\n",
      " [0.04  0.04  0.045 0.05  0.058 0.081 0.227 0.219]\n",
      " [0.025 0.033 0.036 0.039 0.    0.127 0.183 0.301]\n",
      " [0.016 0.014 0.049 0.063 0.204 0.208 0.376 0.409]\n",
      " [0.006 0.    0.045 0.096 0.18  0.301 0.472 0.609]\n",
      " [0.005 0.002 0.008 0.    0.061 0.432 0.912 0.   ]] \n",
      "\n"
     ]
    }
   ],
   "source": [
    "V4 = temporal_difference_evaluation(ENV, alpha = 0.3)"
   ]
  },
  {
   "cell_type": "code",
   "execution_count": null,
   "metadata": {},
   "outputs": [],
   "source": []
  }
 ],
 "metadata": {
  "kernelspec": {
   "display_name": "Python 3",
   "language": "python",
   "name": "python3"
  },
  "language_info": {
   "codemirror_mode": {
    "name": "ipython",
    "version": 3
   },
   "file_extension": ".py",
   "mimetype": "text/x-python",
   "name": "python",
   "nbconvert_exporter": "python",
   "pygments_lexer": "ipython3",
   "version": "3.6.9"
  }
 },
 "nbformat": 4,
 "nbformat_minor": 2
}
