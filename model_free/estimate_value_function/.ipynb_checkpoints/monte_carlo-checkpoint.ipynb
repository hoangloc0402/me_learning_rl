{
 "cells": [
  {
   "cell_type": "code",
   "execution_count": 27,
   "metadata": {},
   "outputs": [],
   "source": [
    "import numpy as np\n",
    "import gym"
   ]
  },
  {
   "cell_type": "code",
   "execution_count": 28,
   "metadata": {},
   "outputs": [],
   "source": [
    "MAP =  [\n",
    "    'S-------',\n",
    "    '--------',\n",
    "    '---H----',\n",
    "    '-----H--',\n",
    "    '--------',\n",
    "    '--H---H-',\n",
    "    '-H----H-',\n",
    "    '---H---G',\n",
    "]\n",
    "MAP_SIZE = (8, 8)\n",
    "MAP_STRING = ''.join(MAP)\n",
    "ACTION_MAPPING = {0: '←', 1: '↓', 2: '→', 3: '↑'}\n",
    "\n",
    "ENV = gym.make('FrozenLake8x8-v0')\n",
    "gym.envs.toy_text.frozen_lake.MAPS['8x8'] = MAP\n",
    "ENV = gym.make('FrozenLake8x8-v0', is_slippery=False)\n",
    "\n",
    "ALL_STATE = range(ENV.nS)\n",
    "ALL_ACTION = range(ENV.nA)"
   ]
  },
  {
   "cell_type": "code",
   "execution_count": 29,
   "metadata": {},
   "outputs": [],
   "source": [
    "def print_state_value_func(V: np.ndarray, precision=3):\n",
    "    rounded = np.round_(V, precision).reshape(MAP_SIZE)\n",
    "    print(' V(s):\\n', rounded, '\\n')"
   ]
  },
  {
   "cell_type": "code",
   "execution_count": 30,
   "metadata": {},
   "outputs": [],
   "source": [
    "def sample_episode(env, policy):\n",
    "    episode = list()\n",
    "    state = env.reset()\n",
    "    terminated = False\n",
    "    # Sample an episode\n",
    "    while not terminated:\n",
    "        action = np.random.choice(\n",
    "            ALL_ACTION,\n",
    "            p=policy[state].tolist()\n",
    "        )\n",
    "        next_state, reward, terminated, info = env.step(action)\n",
    "        episode.append((state, action, reward))\n",
    "        state = next_state\n",
    "    return episode"
   ]
  },
  {
   "cell_type": "code",
   "execution_count": 31,
   "metadata": {},
   "outputs": [],
   "source": [
    "def monte_carlo_evaluation(env,\n",
    "                           strategy = 'first_visit',\n",
    "                           discount_factor = 1.0,\n",
    "                           incremental = False,\n",
    "                           max_iteration = 9999):\n",
    "    # Init policy with equal prob for all actions\n",
    "    policy = np.ones([env.nS, env.nA]) / env.nA\n",
    "\n",
    "    V = np.zeros(env.nS)\n",
    "    N = np.zeros_like(V)\n",
    "    G = np.zeros_like(V)\n",
    "\n",
    "    for _ in range(max_iteration):\n",
    "        episode = sample_episode(env, policy)\n",
    "\n",
    "        # Calulate G and N for Monte Carlo first visit\n",
    "        if strategy == 'first_visit':\n",
    "            visited = np.zeros_like(V, dtype=bool)\n",
    "            for idx, (state, _, _) in enumerate(episode):\n",
    "                if visited[state]:\n",
    "                    continue\n",
    "                N[state] += 1\n",
    "                for i, (_, _, reward) in enumerate(episode[idx:]):\n",
    "                    G[state] += (discount_factor**i) * reward\n",
    "                visited[state] == True\n",
    "\n",
    "        # Calulate G and N for Monte Carlo every visit\n",
    "        elif strategy == 'every_visit':\n",
    "            for idx, (state, _, _) in enumerate(episode):\n",
    "                N[state] += 1\n",
    "                for i, (_, _, reward) in enumerate(episode[idx:]):\n",
    "                    G[state] += (discount_factor**i) * reward\n",
    "        else:\n",
    "            assert False\n",
    "\n",
    "    if incremental:\n",
    "        alpha = np.divide(1, N, out = np.zeros_like(N), where = N!=0)\n",
    "        V += alpha * (G - V)\n",
    "    else:\n",
    "        V = np.divide(G, N, out = np.zeros_like(N), where = N!=0)\n",
    "\n",
    "    print_state_value_func(V)\n",
    "    return V"
   ]
  },
  {
   "cell_type": "code",
   "execution_count": 32,
   "metadata": {},
   "outputs": [
    {
     "name": "stdout",
     "output_type": "stream",
     "text": [
      " V(s):\n",
      " [[0.004 0.005 0.004 0.006 0.01  0.01  0.01  0.017]\n",
      " [0.004 0.004 0.003 0.005 0.008 0.011 0.015 0.018]\n",
      " [0.004 0.003 0.002 0.    0.007 0.01  0.022 0.03 ]\n",
      " [0.002 0.003 0.005 0.004 0.007 0.    0.033 0.059]\n",
      " [0.001 0.002 0.003 0.004 0.011 0.013 0.021 0.06 ]\n",
      " [0.    0.    0.    0.006 0.021 0.029 0.    0.141]\n",
      " [0.    0.    0.    0.003 0.024 0.087 0.    0.381]\n",
      " [0.    0.    0.    0.    0.013 0.174 0.405 0.   ]] \n",
      "\n"
     ]
    }
   ],
   "source": [
    "V0 = monte_carlo_evaluation(\n",
    "    ENV,\n",
    "    strategy = 'first_visit',\n",
    "    incremental = False\n",
    ")"
   ]
  },
  {
   "cell_type": "code",
   "execution_count": 33,
   "metadata": {},
   "outputs": [
    {
     "name": "stdout",
     "output_type": "stream",
     "text": [
      " V(s):\n",
      " [[0.003 0.002 0.002 0.003 0.007 0.008 0.014 0.017]\n",
      " [0.003 0.002 0.003 0.003 0.007 0.007 0.01  0.016]\n",
      " [0.002 0.002 0.003 0.    0.004 0.007 0.014 0.026]\n",
      " [0.003 0.002 0.002 0.004 0.002 0.    0.027 0.048]\n",
      " [0.005 0.002 0.003 0.007 0.009 0.02  0.034 0.073]\n",
      " [0.002 0.001 0.    0.004 0.017 0.035 0.    0.156]\n",
      " [0.002 0.    0.    0.007 0.016 0.037 0.    0.351]\n",
      " [0.    0.    0.    0.    0.044 0.103 0.433 0.   ]] \n",
      "\n"
     ]
    }
   ],
   "source": [
    "V1 = monte_carlo_evaluation(\n",
    "    ENV,\n",
    "    strategy = 'every_visit',\n",
    "    incremental = False\n",
    ")"
   ]
  },
  {
   "cell_type": "code",
   "execution_count": 34,
   "metadata": {},
   "outputs": [
    {
     "name": "stdout",
     "output_type": "stream",
     "text": [
      " V(s):\n",
      " [[0.002 0.003 0.004 0.004 0.006 0.013 0.018 0.025]\n",
      " [0.002 0.003 0.003 0.004 0.006 0.011 0.017 0.021]\n",
      " [0.002 0.002 0.002 0.    0.003 0.006 0.018 0.028]\n",
      " [0.002 0.002 0.002 0.004 0.009 0.    0.015 0.03 ]\n",
      " [0.003 0.002 0.002 0.005 0.014 0.02  0.015 0.046]\n",
      " [0.001 0.001 0.    0.004 0.003 0.021 0.    0.115]\n",
      " [0.    0.    0.    0.003 0.019 0.038 0.    0.269]\n",
      " [0.    0.    0.    0.    0.03  0.056 0.149 0.   ]] \n",
      "\n"
     ]
    }
   ],
   "source": [
    "V2 = monte_carlo_evaluation(\n",
    "    ENV,\n",
    "    strategy = 'first_visit',\n",
    "    incremental = True\n",
    ")"
   ]
  },
  {
   "cell_type": "code",
   "execution_count": 35,
   "metadata": {},
   "outputs": [
    {
     "name": "stdout",
     "output_type": "stream",
     "text": [
      " V(s):\n",
      " [[0.002 0.003 0.004 0.005 0.006 0.009 0.008 0.007]\n",
      " [0.002 0.002 0.003 0.005 0.005 0.007 0.01  0.01 ]\n",
      " [0.001 0.001 0.002 0.    0.003 0.008 0.017 0.023]\n",
      " [0.002 0.001 0.002 0.002 0.003 0.    0.02  0.038]\n",
      " [0.001 0.001 0.003 0.008 0.016 0.019 0.026 0.075]\n",
      " [0.    0.    0.    0.009 0.026 0.033 0.    0.134]\n",
      " [0.    0.    0.01  0.016 0.038 0.057 0.    0.295]\n",
      " [0.    0.    0.    0.    0.033 0.111 0.246 0.   ]] \n",
      "\n"
     ]
    }
   ],
   "source": [
    "V3 = monte_carlo_evaluation(\n",
    "    ENV,\n",
    "    strategy = 'every_visit',\n",
    "    incremental = True\n",
    ")"
   ]
  },
  {
   "cell_type": "code",
   "execution_count": null,
   "metadata": {},
   "outputs": [],
   "source": []
  }
 ],
 "metadata": {
  "kernelspec": {
   "display_name": "Python 3",
   "language": "python",
   "name": "python3"
  },
  "language_info": {
   "codemirror_mode": {
    "name": "ipython",
    "version": 3
   },
   "file_extension": ".py",
   "mimetype": "text/x-python",
   "name": "python",
   "nbconvert_exporter": "python",
   "pygments_lexer": "ipython3",
   "version": "3.6.9"
  }
 },
 "nbformat": 4,
 "nbformat_minor": 2
}
