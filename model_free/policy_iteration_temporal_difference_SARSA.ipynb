{
 "cells": [
  {
   "cell_type": "code",
   "execution_count": 1,
   "metadata": {},
   "outputs": [],
   "source": [
    "from pprint import pprint\n",
    "import numpy as np\n",
    "import gym\n",
    "from gym.envs.toy_text import frozen_lake"
   ]
  },
  {
   "cell_type": "code",
   "execution_count": 9,
   "metadata": {},
   "outputs": [],
   "source": [
    "ENV = gym.make('FrozenLake-v0')\n",
    "\n",
    "MAP =  ['S---',\n",
    "        '----',\n",
    "        '----',\n",
    "        '---G']\n",
    "frozen_lake.MAPS['4x4'] = MAP\n",
    "ENV = gym.make('FrozenLake-v0', is_slippery=False)\n",
    "\n",
    "ACTION_MAPPING = { 0: '←', 1: '↓', 2: '→', 3: '↑'}"
   ]
  },
  {
   "cell_type": "code",
   "execution_count": 10,
   "metadata": {},
   "outputs": [],
   "source": [
    "def print_policy(policy: np.ndarray):\n",
    "    print(' POLICY: ')\n",
    "    temp_policy = np.argmax(policy, axis = 1)\n",
    "    temp_map = ''.join(MAP)\n",
    "    string_map = list()\n",
    "    for idx, action in enumerate(temp_policy):\n",
    "        if temp_map[idx] == 'H':\n",
    "            string_map.append('□')\n",
    "        else:\n",
    "            string_map.append(ACTION_MAPPING[action])\n",
    "    string_map = np.array(string_map).reshape((4, 4))\n",
    "    print(string_map, '\\n')"
   ]
  },
  {
   "cell_type": "code",
   "execution_count": 22,
   "metadata": {},
   "outputs": [],
   "source": [
    "def policy_improvement_loop(gym_env,\n",
    "                            alpha = 0.5,\n",
    "                            discount_factor = 1.0,\n",
    "                            max_iter = 9999):\n",
    "    print('     POLICY ITERATION: TEMPORAL DIFFERENCE')\n",
    "    # Init policy with equal prob for all actions\n",
    "    policy = np.ones([gym_env.nS, gym_env.nA]) / gym_env.nA\n",
    "    policy_greedy = np.copy(policy)\n",
    "\n",
    "    Q = np.zeros((gym_env.nS, gym_env.nA))\n",
    "\n",
    "    for k in range(1, max_iter + 1):\n",
    "        eps_greedy = 1.0 / (k + 1)\n",
    "        \n",
    "        def choose_action(state, gym_env = gym_env, policy = policy):\n",
    "            probs = policy[state].tolist()\n",
    "            action = np.random.choice(range(gym_env.nA), p=probs)\n",
    "            return action\n",
    "        \n",
    "        state = gym_env.reset()\n",
    "        action = choose_action(state)\n",
    "        terminated = False\n",
    "        \n",
    "        while not terminated:\n",
    "            \n",
    "            next_state, reward, terminated, _ = gym_env.step(action)\n",
    "            next_action = choose_action(next_state)\n",
    "\n",
    "            TD_target = reward + discount_factor * Q[state, next_action]\n",
    "            Q[state, action] += alpha * (TD_target - Q[state, action])\n",
    "            \n",
    "            if np.random.rand() < eps_greedy:\n",
    "                policy[state] = policy_greedy[state]\n",
    "\n",
    "            elif Q[state].sum() != 0:\n",
    "                best_action = np.argmax(Q[state])\n",
    "                policy[state] = np.zeros(gym_env.nA)\n",
    "                policy[state][best_action] = 1.0\n",
    "            \n",
    "            state, action = next_state, next_action\n",
    "            \n",
    "#             print(Q)\n",
    "            \n",
    "    print_policy(policy)\n",
    "            \n",
    "    return policy, Q"
   ]
  },
  {
   "cell_type": "code",
   "execution_count": 27,
   "metadata": {},
   "outputs": [
    {
     "name": "stdout",
     "output_type": "stream",
     "text": [
      "     POLICY ITERATION: TEMPORAL DIFFERENCE\n",
      " POLICY: \n",
      "[['←' '←' '←' '←']\n",
      " ['←' '←' '←' '←']\n",
      " ['←' '←' '←' '↓']\n",
      " ['←' '←' '→' '←']] \n",
      "\n"
     ]
    }
   ],
   "source": [
    "policy, Q = policy_improvement_loop(ENV,\n",
    "                                    alpha = 0.5,\n",
    "                                    max_iter = 999999)"
   ]
  },
  {
   "cell_type": "code",
   "execution_count": 28,
   "metadata": {},
   "outputs": [
    {
     "data": {
      "text/plain": [
       "array([[0.        , 0.        , 0.        , 0.        ],\n",
       "       [0.        , 0.        , 0.        , 0.        ],\n",
       "       [0.        , 0.        , 0.        , 0.        ],\n",
       "       [0.        , 0.        , 0.        , 0.        ],\n",
       "       [0.        , 0.        , 0.        , 0.        ],\n",
       "       [0.        , 0.        , 0.        , 0.        ],\n",
       "       [0.        , 0.        , 0.        , 0.        ],\n",
       "       [0.        , 0.        , 0.        , 0.        ],\n",
       "       [0.        , 0.        , 0.        , 0.        ],\n",
       "       [0.        , 0.        , 0.        , 0.        ],\n",
       "       [0.        , 0.        , 0.        , 0.        ],\n",
       "       [0.76490778, 1.43836349, 0.89736167, 0.        ],\n",
       "       [0.        , 0.        , 0.        , 0.        ],\n",
       "       [0.        , 0.        , 0.        , 0.        ],\n",
       "       [0.52846234, 0.25      , 1.15697224, 0.        ],\n",
       "       [0.        , 0.        , 0.        , 0.        ]])"
      ]
     },
     "execution_count": 28,
     "metadata": {},
     "output_type": "execute_result"
    }
   ],
   "source": [
    "Q"
   ]
  },
  {
   "cell_type": "code",
   "execution_count": null,
   "metadata": {},
   "outputs": [],
   "source": []
  }
 ],
 "metadata": {
  "kernelspec": {
   "display_name": "Python 3",
   "language": "python",
   "name": "python3"
  },
  "language_info": {
   "codemirror_mode": {
    "name": "ipython",
    "version": 3
   },
   "file_extension": ".py",
   "mimetype": "text/x-python",
   "name": "python",
   "nbconvert_exporter": "python",
   "pygments_lexer": "ipython3",
   "version": "3.6.9"
  }
 },
 "nbformat": 4,
 "nbformat_minor": 2
}
