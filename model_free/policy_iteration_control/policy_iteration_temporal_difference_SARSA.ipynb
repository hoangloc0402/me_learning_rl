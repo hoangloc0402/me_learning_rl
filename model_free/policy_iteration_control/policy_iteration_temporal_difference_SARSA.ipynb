{
 "cells": [
  {
   "cell_type": "code",
   "execution_count": 1,
   "metadata": {},
   "outputs": [],
   "source": [
    "from pprint import pprint\n",
    "import numpy as np\n",
    "import gym\n",
    "from gym.envs.toy_text import frozen_lake"
   ]
  },
  {
   "cell_type": "code",
   "execution_count": 12,
   "metadata": {},
   "outputs": [],
   "source": [
    "ENV = gym.make('FrozenLake-v0')\n",
    "\n",
    "MAP =  ['S-H-',\n",
    "        '----',\n",
    "        '-H--',\n",
    "        'H--G']\n",
    "frozen_lake.MAPS['4x4'] = MAP\n",
    "ENV = gym.make('FrozenLake-v0', is_slippery=False)\n",
    "\n",
    "ACTION_MAPPING = { 0: '←', 1: '↓', 2: '→', 3: '↑'}"
   ]
  },
  {
   "cell_type": "code",
   "execution_count": 13,
   "metadata": {},
   "outputs": [],
   "source": [
    "def print_policy(policy: np.ndarray):\n",
    "    print(' POLICY: ')\n",
    "    temp_policy = np.argmax(policy, axis = 1)\n",
    "    temp_map = ''.join(MAP)\n",
    "    string_map = list()\n",
    "    for idx, action in enumerate(temp_policy):\n",
    "        if temp_map[idx] == 'H':\n",
    "            string_map.append('□')\n",
    "        else:\n",
    "            string_map.append(ACTION_MAPPING[action])\n",
    "    string_map = np.array(string_map).reshape((4, 4))\n",
    "    print(string_map, '\\n')"
   ]
  },
  {
   "cell_type": "code",
   "execution_count": 34,
   "metadata": {},
   "outputs": [],
   "source": [
    "def policy_improvement_loop(env,\n",
    "                            alpha = 0.5,\n",
    "                            discount_factor = 1.0,\n",
    "                            max_iter = 9999):\n",
    "    print('     POLICY ITERATION: TEMPORAL DIFFERENCE')\n",
    "    # Init policy with equal prob for all actions\n",
    "    policy = np.ones([env.nS, env.nA]) / env.nA\n",
    "    policy_greedy = np.copy(policy)\n",
    "    policy_eye = np.eye(env.nA)\n",
    "\n",
    "    Q = np.zeros((env.nS, env.nA))\n",
    "    \n",
    "    def choose_action(state, env = env, policy = policy):\n",
    "            return np.random.choice(\n",
    "                range(env.nA),\n",
    "                p=policy[state].tolist()\n",
    "            )\n",
    "\n",
    "    for k in range(1, max_iter + 1):\n",
    "        eps_greedy = 1.0 / (k + 1)\n",
    "        state = env.reset()\n",
    "        action = choose_action(state)\n",
    "        terminated = False\n",
    "        \n",
    "        while not terminated:\n",
    "            \n",
    "            next_state, reward, terminated, _ = env.step(action)\n",
    "            next_action = choose_action(next_state)\n",
    "\n",
    "            TD_target = reward + discount_factor * Q[next_state, next_action]\n",
    "            Q[state, action] += alpha * (TD_target - Q[state, action])\n",
    "            \n",
    "            if np.random.rand() < eps_greedy:\n",
    "                policy[state] = policy_greedy[state]\n",
    "\n",
    "            elif Q[state].sum() > 0:\n",
    "                best_action = np.argmax(Q[state])\n",
    "                policy[state] = policy_eye[best_action]\n",
    "            \n",
    "            state, action = next_state, next_action\n",
    "                        \n",
    "    return policy, Q"
   ]
  },
  {
   "cell_type": "code",
   "execution_count": 35,
   "metadata": {},
   "outputs": [
    {
     "name": "stdout",
     "output_type": "stream",
     "text": [
      "     POLICY ITERATION: TEMPORAL DIFFERENCE\n",
      " POLICY: \n",
      "[['→' '↓' '□' '↑']\n",
      " ['↓' '→' '→' '↓']\n",
      " ['↑' '□' '←' '↓']\n",
      " ['□' '←' '→' '←']] \n",
      "\n",
      "[[0.11270269 0.13188468 1.         0.16674304]\n",
      " [0.27685638 1.         0.         0.13857343]\n",
      " [0.         0.         0.         0.        ]\n",
      " [0.         0.24926189 0.09819022 0.35596515]\n",
      " [0.21558285 0.22938956 0.21064738 0.20233738]\n",
      " [0.25487798 0.         1.         0.16340782]\n",
      " [0.09583959 0.0688883  1.         0.        ]\n",
      " [0.37013619 1.         0.03815121 0.48328533]\n",
      " [0.         0.         0.         0.23682306]\n",
      " [0.         0.         0.         0.        ]\n",
      " [0.         0.2        0.13521778 0.34444148]\n",
      " [0.67608889 1.         0.         0.        ]\n",
      " [0.         0.         0.         0.        ]\n",
      " [0.         0.         0.         0.        ]\n",
      " [0.         0.8        1.         0.407296  ]\n",
      " [0.         0.         0.         0.        ]]\n"
     ]
    }
   ],
   "source": [
    "policy, Q = policy_improvement_loop(\n",
    "    ENV,\n",
    "    alpha = 0.8,\n",
    "    max_iter = 99999\n",
    ")\n",
    "print_policy(policy)\n",
    "print(Q)"
   ]
  },
  {
   "cell_type": "code",
   "execution_count": null,
   "metadata": {},
   "outputs": [],
   "source": []
  }
 ],
 "metadata": {
  "kernelspec": {
   "display_name": "Python 3",
   "language": "python",
   "name": "python3"
  },
  "language_info": {
   "codemirror_mode": {
    "name": "ipython",
    "version": 3
   },
   "file_extension": ".py",
   "mimetype": "text/x-python",
   "name": "python",
   "nbconvert_exporter": "python",
   "pygments_lexer": "ipython3",
   "version": "3.6.9"
  }
 },
 "nbformat": 4,
 "nbformat_minor": 2
}
