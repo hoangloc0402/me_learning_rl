{
 "cells": [
  {
   "cell_type": "code",
   "execution_count": 1,
   "metadata": {},
   "outputs": [],
   "source": [
    "from pprint import pprint\n",
    "import numpy as np\n",
    "import gym\n",
    "from gym.envs.toy_text import frozen_lake"
   ]
  },
  {
   "cell_type": "code",
   "execution_count": 2,
   "metadata": {},
   "outputs": [],
   "source": [
    "ENV = gym.make('FrozenLake-v0')\n",
    "\n",
    "MAP =  ['S-H-',\n",
    "        '----',\n",
    "        '-H--',\n",
    "        'H--G']\n",
    "frozen_lake.MAPS['4x4'] = MAP\n",
    "ENV = gym.make('FrozenLake-v0', is_slippery=False)\n",
    "\n",
    "ACTION_MAPPING = { 0: '←', 1: '↓', 2: '→', 3: '↑'}"
   ]
  },
  {
   "cell_type": "code",
   "execution_count": 3,
   "metadata": {},
   "outputs": [],
   "source": [
    "def print_policy(policy: np.ndarray):\n",
    "    print(' POLICY: ')\n",
    "    temp_policy = np.argmax(policy, axis = 1)\n",
    "    temp_map = ''.join(MAP)\n",
    "    string_map = list()\n",
    "    for idx, action in enumerate(temp_policy):\n",
    "        if temp_map[idx] == 'H':\n",
    "            string_map.append('□')\n",
    "        else:\n",
    "            string_map.append(ACTION_MAPPING[action])\n",
    "    string_map = np.array(string_map).reshape((4, 4))\n",
    "    print(string_map, '\\n')"
   ]
  },
  {
   "cell_type": "code",
   "execution_count": 12,
   "metadata": {},
   "outputs": [],
   "source": [
    "def policy_improvement_loop(env,\n",
    "                            alpha = 0.5,\n",
    "                            discount_factor = 1.0,\n",
    "                            max_iter = 9999):\n",
    "    print('     POLICY ITERATION: TEMPORAL DIFFERENCE')\n",
    "    # Init policy with equal prob for all actions\n",
    "    policy = np.ones([env.nS, env.nA]) / env.nA\n",
    "    policy_greedy = np.copy(policy)\n",
    "    policy_eye = np.eye(env.nA)\n",
    "\n",
    "    Q1 = np.zeros((env.nS, env.nA))\n",
    "    Q2 = np.copy(Q1)\n",
    "    \n",
    "    def choose_action(state, env = env, policy = policy):\n",
    "            return np.random.choice(\n",
    "                range(env.nA),\n",
    "                p=policy[state].tolist()\n",
    "            )\n",
    "\n",
    "    for k in range(1, max_iter + 1):\n",
    "        eps_greedy = 1.0 / (k + 1)\n",
    "        state = env.reset()\n",
    "        terminated = False\n",
    "        \n",
    "        while not terminated:\n",
    "            action = choose_action(state)\n",
    "            next_state, reward, terminated, _ = env.step(action)\n",
    "            \n",
    "            if np.random.rand() < 0.5:\n",
    "                Q = Q1\n",
    "            else:\n",
    "                Q = Q2\n",
    "            TD_target = reward + discount_factor * np.max(Q[next_state])\n",
    "            Q[state, action] += alpha * (TD_target - Q[state, action])\n",
    "            \n",
    "            if np.random.rand() < eps_greedy:\n",
    "                policy[state] = policy_greedy[state]\n",
    "\n",
    "            elif Q1[state].sum() != 0 and Q2[state].sum() != 0:\n",
    "                best_action = np.argmax(Q1[state] + Q2[state])\n",
    "                policy[state] = policy_eye[best_action]\n",
    "            \n",
    "            state = next_state\n",
    "                        \n",
    "    return policy, Q1, Q2"
   ]
  },
  {
   "cell_type": "code",
   "execution_count": 14,
   "metadata": {},
   "outputs": [
    {
     "name": "stdout",
     "output_type": "stream",
     "text": [
      "     POLICY ITERATION: TEMPORAL DIFFERENCE\n",
      " POLICY: \n",
      "[['→' '↓' '□' '←']\n",
      " ['←' '→' '↓' '←']\n",
      " ['←' '□' '→' '↓']\n",
      " ['□' '←' '←' '←']] \n",
      "\n"
     ]
    }
   ],
   "source": [
    "policy, Q1, Q2 = policy_improvement_loop(ENV,\n",
    "                                    alpha = 0.8,\n",
    "                                    max_iter = 99999)\n",
    "print_policy(policy)"
   ]
  },
  {
   "cell_type": "code",
   "execution_count": 15,
   "metadata": {},
   "outputs": [
    {
     "name": "stdout",
     "output_type": "stream",
     "text": [
      "[[0.58982157 0.58971439 1.         0.58958947]\n",
      " [0.98358239 1.         0.         0.89434164]\n",
      " [0.         0.         0.         0.        ]\n",
      " [0.         0.         0.         0.        ]\n",
      " [0.54037442 0.45283988 0.91777606 0.98358925]\n",
      " [0.95712881 0.         1.         0.98334377]\n",
      " [0.         1.         0.64       0.        ]\n",
      " [0.8        0.         0.         0.        ]\n",
      " [0.43486544 0.         0.         0.82495398]\n",
      " [0.         0.         0.         0.        ]\n",
      " [0.         0.         1.         0.8       ]\n",
      " [0.992      1.         0.96       0.        ]\n",
      " [0.         0.         0.         0.        ]\n",
      " [0.         0.         0.         0.        ]\n",
      " [0.         0.         0.         0.        ]\n",
      " [0.         0.         0.         0.        ]] \n",
      "\n",
      "[[0.992 0.    1.    0.8  ]\n",
      " [0.8   1.    0.    0.96 ]\n",
      " [0.    0.    0.    0.   ]\n",
      " [0.    0.    0.    0.   ]\n",
      " [0.    0.    0.    0.   ]\n",
      " [0.    0.    1.    0.   ]\n",
      " [0.8   1.    0.    0.   ]\n",
      " [0.8   0.    0.    0.   ]\n",
      " [0.    0.    0.    0.   ]\n",
      " [0.    0.    0.    0.   ]\n",
      " [0.    0.    1.    0.   ]\n",
      " [0.8   1.    0.8   0.   ]\n",
      " [0.    0.    0.    0.   ]\n",
      " [0.    0.    0.    0.   ]\n",
      " [0.    0.    0.    0.   ]\n",
      " [0.    0.    0.    0.   ]]\n"
     ]
    }
   ],
   "source": [
    "print(Q1, '\\n')\n",
    "print(Q2)"
   ]
  },
  {
   "cell_type": "code",
   "execution_count": null,
   "metadata": {},
   "outputs": [],
   "source": []
  }
 ],
 "metadata": {
  "kernelspec": {
   "display_name": "Python 3",
   "language": "python",
   "name": "python3"
  },
  "language_info": {
   "codemirror_mode": {
    "name": "ipython",
    "version": 3
   },
   "file_extension": ".py",
   "mimetype": "text/x-python",
   "name": "python",
   "nbconvert_exporter": "python",
   "pygments_lexer": "ipython3",
   "version": "3.6.9"
  }
 },
 "nbformat": 4,
 "nbformat_minor": 2
}
