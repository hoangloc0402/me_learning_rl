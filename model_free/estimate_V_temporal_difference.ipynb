{
 "cells": [
  {
   "cell_type": "code",
   "execution_count": 1,
   "metadata": {},
   "outputs": [],
   "source": [
    "from pprint import pprint\n",
    "import numpy as np\n",
    "import gym\n",
    "from gym.envs.toy_text import frozen_lake"
   ]
  },
  {
   "cell_type": "code",
   "execution_count": 2,
   "metadata": {},
   "outputs": [],
   "source": [
    "ENV = gym.make('FrozenLake-v0')\n",
    "\n",
    "MAP =  ['S-------',\n",
    "        '--------',\n",
    "        '--------',\n",
    "        '--------',\n",
    "        '----H---',\n",
    "        '--------',\n",
    "        '-H------',\n",
    "        '---H---G']\n",
    "frozen_lake.MAPS['8x8'] = MAP\n",
    "ENV = gym.make('FrozenLake8x8-v0', is_slippery=False)\n",
    "\n",
    "ACTION_MAPPING = { 0: '←', 1: '↓', 2: '→', 3: '↑'}"
   ]
  },
  {
   "cell_type": "code",
   "execution_count": 3,
   "metadata": {},
   "outputs": [],
   "source": [
    "def print_state_value_func(V):\n",
    "    print(' V(s):')\n",
    "    print(np.round_(V, 2).reshape(8, 8), '\\n')\n",
    "\n",
    "def print_policy(policy: np.ndarray):\n",
    "    print(' POLICY: ')\n",
    "    temp_policy = np.argmax(policy, axis = 1)\n",
    "    temp_map = ''.join(MAP)\n",
    "    string_map = list()\n",
    "    for idx, action in enumerate(temp_policy):\n",
    "        if temp_map[idx] == 'H':\n",
    "            string_map.append('□')\n",
    "        else:\n",
    "            string_map.append(ACTION_MAPPING[action])\n",
    "    string_map = np.array(string_map).reshape((8, 8))\n",
    "    print(string_map, '\\n')"
   ]
  },
  {
   "cell_type": "code",
   "execution_count": 15,
   "metadata": {},
   "outputs": [],
   "source": [
    "def evaluate_policy_temporal_diccerence(gym_env,\n",
    "                                        alpha = 0.5,\n",
    "                                        discount_factor = 1.0,\n",
    "                                        max_iter = 9999):\n",
    "    print('     POLICY EVALUATION: TEMPORAL DIFFERENCE')\n",
    "    # Init policy with equal prob for all actions\n",
    "    policy = np.ones([gym_env.nS, gym_env.nA]) / gym_env.nA\n",
    "\n",
    "    V = np.zeros(gym_env.nS)\n",
    "\n",
    "    for _ in range(max_iter):\n",
    "        state = gym_env.reset()\n",
    "        terminated = False\n",
    "        \n",
    "        while not terminated:                \n",
    "            action_list_prob = policy[state].tolist()\n",
    "            action = np.random.choice(range(gym_env.nA), p=action_list_prob)\n",
    "            \n",
    "            next_state, reward, terminated, info = gym_env.step(action)\n",
    "            \n",
    "            TD_target = reward + discount_factor * V[next_state]\n",
    "            V[state] += alpha * (TD_target - V[state])\n",
    "            \n",
    "            state = next_state\n",
    "    return V"
   ]
  },
  {
   "cell_type": "code",
   "execution_count": 16,
   "metadata": {},
   "outputs": [
    {
     "name": "stdout",
     "output_type": "stream",
     "text": [
      "     POLICY EVALUATION: TEMPORAL DIFFERENCE\n",
      " V(s):\n",
      "[[0. 0. 0. 0. 0. 0. 1. 0.]\n",
      " [0. 0. 0. 0. 0. 1. 0. 0.]\n",
      " [0. 1. 0. 0. 0. 1. 1. 0.]\n",
      " [0. 0. 1. 0. 1. 0. 0. 1.]\n",
      " [0. 0. 0. 0. 0. 0. 0. 0.]\n",
      " [0. 0. 0. 0. 0. 1. 1. 1.]\n",
      " [0. 0. 0. 0. 0. 0. 0. 1.]\n",
      " [0. 0. 0. 0. 0. 0. 1. 0.]] \n",
      "\n"
     ]
    }
   ],
   "source": [
    "V1 = evaluate_policy_temporal_diccerence(ENV, alpha = 1)\n",
    "print_state_value_func(V1)"
   ]
  },
  {
   "cell_type": "code",
   "execution_count": 17,
   "metadata": {},
   "outputs": [
    {
     "name": "stdout",
     "output_type": "stream",
     "text": [
      "     POLICY EVALUATION: TEMPORAL DIFFERENCE\n",
      " V(s):\n",
      "[[0.06 0.12 0.08 0.13 0.13 0.17 0.2  0.24]\n",
      " [0.07 0.08 0.09 0.09 0.17 0.18 0.2  0.23]\n",
      " [0.05 0.05 0.05 0.05 0.18 0.12 0.25 0.33]\n",
      " [0.04 0.06 0.05 0.09 0.02 0.12 0.48 0.45]\n",
      " [0.01 0.04 0.03 0.04 0.   0.26 0.52 0.63]\n",
      " [0.   0.   0.02 0.07 0.11 0.12 0.8  0.84]\n",
      " [0.   0.   0.01 0.05 0.19 0.5  0.96 0.98]\n",
      " [0.   0.   0.   0.   0.41 0.53 0.91 0.  ]] \n",
      "\n"
     ]
    }
   ],
   "source": [
    "V2 = evaluate_policy_temporal_diccerence(ENV, alpha = 0.8)\n",
    "print_state_value_func(V2)"
   ]
  },
  {
   "cell_type": "code",
   "execution_count": 18,
   "metadata": {},
   "outputs": [
    {
     "name": "stdout",
     "output_type": "stream",
     "text": [
      "     POLICY EVALUATION: TEMPORAL DIFFERENCE\n",
      " V(s):\n",
      "[[0.07 0.07 0.09 0.11 0.13 0.17 0.18 0.19]\n",
      " [0.06 0.06 0.07 0.1  0.13 0.14 0.19 0.2 ]\n",
      " [0.06 0.07 0.09 0.1  0.1  0.17 0.21 0.21]\n",
      " [0.04 0.05 0.06 0.09 0.07 0.16 0.3  0.31]\n",
      " [0.02 0.03 0.03 0.05 0.   0.27 0.41 0.42]\n",
      " [0.01 0.02 0.03 0.03 0.04 0.19 0.4  0.6 ]\n",
      " [0.   0.   0.01 0.02 0.1  0.18 0.29 0.58]\n",
      " [0.   0.   0.   0.   0.12 0.22 0.31 0.  ]] \n",
      "\n"
     ]
    }
   ],
   "source": [
    "V3 = evaluate_policy_temporal_diccerence(ENV, alpha = 0.5)\n",
    "print_state_value_func(V3)"
   ]
  },
  {
   "cell_type": "code",
   "execution_count": 19,
   "metadata": {},
   "outputs": [
    {
     "name": "stdout",
     "output_type": "stream",
     "text": [
      "     POLICY EVALUATION: TEMPORAL DIFFERENCE\n",
      " V(s):\n",
      "[[0.07 0.07 0.09 0.1  0.13 0.13 0.15 0.15]\n",
      " [0.06 0.07 0.08 0.1  0.11 0.14 0.15 0.15]\n",
      " [0.05 0.06 0.06 0.08 0.11 0.14 0.16 0.19]\n",
      " [0.05 0.05 0.06 0.07 0.06 0.12 0.15 0.2 ]\n",
      " [0.04 0.05 0.06 0.05 0.   0.15 0.22 0.28]\n",
      " [0.04 0.04 0.05 0.08 0.11 0.33 0.31 0.34]\n",
      " [0.01 0.   0.02 0.06 0.17 0.34 0.5  0.52]\n",
      " [0.   0.   0.01 0.   0.19 0.33 0.61 0.  ]] \n",
      "\n"
     ]
    }
   ],
   "source": [
    "V4 = evaluate_policy_temporal_diccerence(ENV, alpha = 0.3)\n",
    "print_state_value_func(V4)"
   ]
  },
  {
   "cell_type": "code",
   "execution_count": null,
   "metadata": {},
   "outputs": [],
   "source": []
  }
 ],
 "metadata": {
  "kernelspec": {
   "display_name": "Python 3",
   "language": "python",
   "name": "python3"
  },
  "language_info": {
   "codemirror_mode": {
    "name": "ipython",
    "version": 3
   },
   "file_extension": ".py",
   "mimetype": "text/x-python",
   "name": "python",
   "nbconvert_exporter": "python",
   "pygments_lexer": "ipython3",
   "version": "3.6.9"
  }
 },
 "nbformat": 4,
 "nbformat_minor": 2
}
