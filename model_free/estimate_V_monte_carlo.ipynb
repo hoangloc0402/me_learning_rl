{
 "cells": [
  {
   "cell_type": "code",
   "execution_count": 1,
   "metadata": {},
   "outputs": [],
   "source": [
    "from pprint import pprint\n",
    "import numpy as np\n",
    "import gym\n",
    "from gym.envs.toy_text import frozen_lake"
   ]
  },
  {
   "cell_type": "code",
   "execution_count": 2,
   "metadata": {},
   "outputs": [],
   "source": [
    "ENV = gym.make('FrozenLake-v0')\n",
    "\n",
    "MAP =  ['S-------',\n",
    "        '--------',\n",
    "        '--------',\n",
    "        '--------',\n",
    "        '----H---',\n",
    "        '--------',\n",
    "        '-H------',\n",
    "        '---H---G']\n",
    "frozen_lake.MAPS['8x8'] = MAP\n",
    "ENV = gym.make('FrozenLake8x8-v0', is_slippery=False)\n",
    "\n",
    "ACTION_MAPPING = { 0: '←', 1: '↓', 2: '→', 3: '↑'}"
   ]
  },
  {
   "cell_type": "code",
   "execution_count": 3,
   "metadata": {},
   "outputs": [],
   "source": [
    "def print_state_value_func(V):\n",
    "    print(' V(s):')\n",
    "    print(np.round_(V, 2).reshape(8, 8), '\\n')"
   ]
  },
  {
   "cell_type": "code",
   "execution_count": 4,
   "metadata": {},
   "outputs": [],
   "source": [
    "def sample_episode(gym_env, policy):\n",
    "    episode = list()\n",
    "    state = gym_env.reset()\n",
    "    terminated = False\n",
    "    # Sample an episode\n",
    "    while not terminated:\n",
    "        action_list_prob = policy[state].tolist()\n",
    "        action = np.random.choice(range(gym_env.nA), p=action_list_prob)\n",
    "\n",
    "        next_state, reward, terminated, info = gym_env.step(action)\n",
    "        episode.append((state, action, reward))\n",
    "        state = next_state\n",
    "    return episode"
   ]
  },
  {
   "cell_type": "code",
   "execution_count": 5,
   "metadata": {},
   "outputs": [],
   "source": [
    "def evaluate_policy_using_Monte_Carlo(gym_env,\n",
    "                                      MC_type = 'first_visit',\n",
    "                                      discount_factor = 1.0,\n",
    "                                      incremental = False,\n",
    "                                      max_iter = 9999):\n",
    "    # Init policy with equal prob for all actions\n",
    "    policy = np.ones([gym_env.nS, gym_env.nA]) / gym_env.nA\n",
    "\n",
    "    V = np.zeros(gym_env.nS)\n",
    "    N = np.zeros_like(V)\n",
    "    G = np.zeros_like(V)\n",
    "\n",
    "    for _ in range(max_iter):\n",
    "        episode = sample_episode(gym_env, policy)\n",
    "\n",
    "        # Calulate G and N for Monte Carlo first visit\n",
    "        if MC_type == 'first_visit':\n",
    "            visited = np.zeros_like(V, dtype=int)\n",
    "            for idx, (state, _, _) in enumerate(episode):\n",
    "                if visited[state] == 1:\n",
    "                    continue\n",
    "                N[state] += 1\n",
    "                for i, (_, _, reward) in enumerate(episode[idx:]):\n",
    "                    G[state] += (discount_factor**i) * reward\n",
    "                visited[state] == 1\n",
    "        # Calulate G and N for Monte Carlo every visit\n",
    "        elif MC_type == 'every_visit':\n",
    "            for idx, (state, _, _) in enumerate(episode):\n",
    "                N[state] += 1\n",
    "                for i, (_, _, reward) in enumerate(episode[idx:]):\n",
    "                    G[state] += (discount_factor**i) * reward\n",
    "        else:\n",
    "            assert False\n",
    "\n",
    "    if incremental:\n",
    "        alpha = np.divide(1, N, out = np.zeros_like(N), where = N!=0)\n",
    "        V += alpha * (G - V)\n",
    "    else:\n",
    "        V = np.divide(G, N, out = np.zeros_like(N), where = N!=0)\n",
    "\n",
    "    return V"
   ]
  },
  {
   "cell_type": "code",
   "execution_count": 6,
   "metadata": {},
   "outputs": [
    {
     "name": "stdout",
     "output_type": "stream",
     "text": [
      " V(s):\n",
      "[[0.07 0.07 0.08 0.08 0.1  0.11 0.13 0.14]\n",
      " [0.06 0.06 0.07 0.08 0.09 0.12 0.13 0.14]\n",
      " [0.06 0.06 0.06 0.07 0.08 0.12 0.14 0.16]\n",
      " [0.04 0.05 0.05 0.06 0.07 0.12 0.18 0.21]\n",
      " [0.03 0.04 0.04 0.04 0.   0.15 0.24 0.29]\n",
      " [0.02 0.02 0.04 0.06 0.1  0.23 0.34 0.44]\n",
      " [0.01 0.   0.03 0.06 0.16 0.3  0.46 0.65]\n",
      " [0.01 0.   0.01 0.   0.17 0.38 0.61 0.  ]] \n",
      "\n"
     ]
    }
   ],
   "source": [
    "V0 = evaluate_policy_using_Monte_Carlo(ENV,\n",
    "                                       MC_type = 'first_visit',\n",
    "                                       incremental = False)\n",
    "print_state_value_func(V0)"
   ]
  },
  {
   "cell_type": "code",
   "execution_count": 25,
   "metadata": {},
   "outputs": [
    {
     "name": "stdout",
     "output_type": "stream",
     "text": [
      " V(s):\n",
      "[[0.07 0.08 0.08 0.09 0.1  0.11 0.13 0.13]\n",
      " [0.06 0.07 0.07 0.08 0.1  0.12 0.14 0.15]\n",
      " [0.06 0.06 0.07 0.08 0.09 0.13 0.16 0.17]\n",
      " [0.04 0.05 0.05 0.06 0.07 0.12 0.18 0.21]\n",
      " [0.04 0.04 0.05 0.04 0.   0.15 0.23 0.3 ]\n",
      " [0.03 0.03 0.05 0.07 0.11 0.23 0.33 0.41]\n",
      " [0.01 0.   0.04 0.07 0.15 0.3  0.47 0.62]\n",
      " [0.02 0.02 0.02 0.   0.16 0.37 0.62 0.  ]] \n",
      "\n"
     ]
    }
   ],
   "source": [
    "V1 = evaluate_policy_using_Monte_Carlo(ENV,\n",
    "                                       MC_type = 'every_visit',\n",
    "                                       incremental = False)\n",
    "print_state_value_func(V1)"
   ]
  },
  {
   "cell_type": "code",
   "execution_count": 26,
   "metadata": {},
   "outputs": [
    {
     "name": "stdout",
     "output_type": "stream",
     "text": [
      " V(s):\n",
      "[[0.07 0.07 0.07 0.08 0.1  0.12 0.13 0.12]\n",
      " [0.06 0.07 0.07 0.08 0.1  0.12 0.13 0.14]\n",
      " [0.06 0.06 0.07 0.07 0.09 0.12 0.15 0.17]\n",
      " [0.05 0.05 0.05 0.06 0.07 0.12 0.18 0.21]\n",
      " [0.04 0.04 0.04 0.04 0.   0.14 0.23 0.28]\n",
      " [0.03 0.03 0.04 0.06 0.11 0.23 0.33 0.41]\n",
      " [0.01 0.   0.03 0.06 0.16 0.3  0.47 0.62]\n",
      " [0.01 0.   0.01 0.   0.16 0.35 0.62 0.  ]] \n",
      "\n"
     ]
    }
   ],
   "source": [
    "V2 = evaluate_policy_using_Monte_Carlo(ENV,\n",
    "                                       MC_type = 'first_visit',\n",
    "                                       incremental = True)\n",
    "print_state_value_func(V2)"
   ]
  },
  {
   "cell_type": "code",
   "execution_count": 27,
   "metadata": {},
   "outputs": [
    {
     "name": "stdout",
     "output_type": "stream",
     "text": [
      " V(s):\n",
      "[[0.06 0.06 0.07 0.08 0.09 0.11 0.12 0.12]\n",
      " [0.06 0.06 0.07 0.08 0.09 0.11 0.12 0.12]\n",
      " [0.05 0.05 0.06 0.07 0.09 0.11 0.14 0.15]\n",
      " [0.04 0.04 0.05 0.05 0.06 0.12 0.18 0.19]\n",
      " [0.03 0.03 0.04 0.04 0.   0.14 0.23 0.26]\n",
      " [0.02 0.02 0.04 0.06 0.11 0.21 0.33 0.38]\n",
      " [0.01 0.   0.03 0.06 0.15 0.29 0.47 0.63]\n",
      " [0.01 0.01 0.01 0.   0.16 0.36 0.62 0.  ]] \n",
      "\n"
     ]
    }
   ],
   "source": [
    "V3 = evaluate_policy_using_Monte_Carlo(ENV,\n",
    "                                       MC_type = 'every_visit',\n",
    "                                       incremental = True)\n",
    "print_state_value_func(V3)"
   ]
  },
  {
   "cell_type": "code",
   "execution_count": null,
   "metadata": {},
   "outputs": [],
   "source": []
  }
 ],
 "metadata": {
  "kernelspec": {
   "display_name": "Python 3",
   "language": "python",
   "name": "python3"
  },
  "language_info": {
   "codemirror_mode": {
    "name": "ipython",
    "version": 3
   },
   "file_extension": ".py",
   "mimetype": "text/x-python",
   "name": "python",
   "nbconvert_exporter": "python",
   "pygments_lexer": "ipython3",
   "version": "3.6.9"
  }
 },
 "nbformat": 4,
 "nbformat_minor": 2
}
