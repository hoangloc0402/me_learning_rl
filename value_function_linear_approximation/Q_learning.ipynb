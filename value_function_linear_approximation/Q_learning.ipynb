{
 "cells": [
  {
   "cell_type": "code",
   "execution_count": 32,
   "metadata": {},
   "outputs": [],
   "source": [
    "import itertools\n",
    "\n",
    "import gym\n",
    "import numpy as np\n",
    "from IPython import display\n",
    "import matplotlib.pyplot as plt\n",
    "\n",
    "%matplotlib inline"
   ]
  },
  {
   "cell_type": "code",
   "execution_count": 26,
   "metadata": {},
   "outputs": [],
   "source": [
    "ENV = gym.make('MountainCar-v0')\n",
    "NUM_ACTION = ENV.action_space.n\n",
    "OBSV_SHAPE = ENV.observation_space.shape\n",
    "GAMMA = 0.95\n",
    "GAMMA_VECTOR = np.fromfunction(\n",
    "    lambda i: GAMMA**(i+1),\n",
    "    shape=(200,)\n",
    ")"
   ]
  },
  {
   "cell_type": "code",
   "execution_count": 24,
   "metadata": {},
   "outputs": [],
   "source": [
    "class Estimator:\n",
    "    \n",
    "    def __init__(self,\n",
    "                 w_size=OBSV_SHAPE,\n",
    "                 num_action=NUM_ACTION):\n",
    "        self.weights = [np.zeros(w_size, dtype=float).T for _ in range(num_action)]\n",
    "        self.set_learning_rate()\n",
    "        \n",
    "    def set_learning_rate(self, lr: float = 0.01):\n",
    "        self.learning_rate = lr\n",
    "        \n",
    "    def estimate(self, observation: np.ndarray, action: int):\n",
    "        weight = self.weights[action\n",
    "        estimated_value = weight @ observation\n",
    "        return estimated_value\n",
    "    \n",
    "    def update(self, G_t, action: int):\n",
    "        weight"
   ]
  },
  {
   "cell_type": "code",
   "execution_count": 34,
   "metadata": {},
   "outputs": [],
   "source": [
    "def create_policy(estimator,\n",
    "                  greedy_epsilon,\n",
    "                  num_action = NUM_ACTION):\n",
    "\n",
    "    def policy_fn(observation):\n",
    "        policy = np.ones((num_action,, dtype=float) * epsilon / num_action\n",
    "        q_values = estimator.predict(observation)\n",
    "        best_action = np.argmax(q_values)\n",
    "        policy[best_action] += (1.0 - epsilon)\n",
    "        return policy\n",
    "\n",
    "    return policy_fn"
   ]
  },
  {
   "cell_type": "code",
   "execution_count": null,
   "metadata": {},
   "outputs": [],
   "source": [
    "def q_learning(env,\n",
    "               estimator,\n",
    "               num_episode=100,\n",
    "               discount_factor=1.0,\n",
    "               eps=0.1,\n",
    "               eps_decay=1.0):\n",
    "\n",
    "    for i_episode in range(num_episode):\n",
    "        current_eps = eps*(eps_decay**i_episode)\n",
    "        policy = create_policy(estimator, current_eps)\n",
    "        \n",
    "        "
   ]
  },
  {
   "cell_type": "code",
   "execution_count": null,
   "metadata": {},
   "outputs": [],
   "source": []
  },
  {
   "cell_type": "code",
   "execution_count": null,
   "metadata": {},
   "outputs": [],
   "source": []
  },
  {
   "cell_type": "code",
   "execution_count": null,
   "metadata": {},
   "outputs": [],
   "source": []
  },
  {
   "cell_type": "code",
   "execution_count": null,
   "metadata": {},
   "outputs": [],
   "source": [
    "# def sample_episode(gym_env, policy):\n",
    "#     episode = list()\n",
    "#     state = gym_env.reset()\n",
    "#     terminated = False\n",
    "#     # Sample an episode\n",
    "#     while not terminated:\n",
    "#         action = np.random.choice(\n",
    "#             range(NUM_ACTION),\n",
    "#             p=policy(state).tolist()\n",
    "#         )\n",
    "#         next_state, reward, terminated, info = gym_env.step(action)\n",
    "#         episode.append((state, action, reward))\n",
    "#         state = next_state\n",
    "#     return episode"
   ]
  },
  {
   "cell_type": "code",
   "execution_count": null,
   "metadata": {},
   "outputs": [],
   "source": []
  },
  {
   "cell_type": "code",
   "execution_count": 17,
   "metadata": {},
   "outputs": [
    {
     "data": {
      "text/plain": [
       "Box(-1.2000000476837158, 0.6000000238418579, (2,), float32)"
      ]
     },
     "execution_count": 17,
     "metadata": {},
     "output_type": "execute_result"
    }
   ],
   "source": []
  },
  {
   "cell_type": "code",
   "execution_count": 5,
   "metadata": {},
   "outputs": [],
   "source": []
  },
  {
   "cell_type": "code",
   "execution_count": 6,
   "metadata": {},
   "outputs": [
    {
     "data": {
      "text/plain": [
       "(array([-0.47202761, -0.00139558]), -1.0, False, {})"
      ]
     },
     "execution_count": 6,
     "metadata": {},
     "output_type": "execute_result"
    }
   ],
   "source": [
    "ENV.reset()\n",
    "ENV.step(0)"
   ]
  },
  {
   "cell_type": "code",
   "execution_count": 1,
   "metadata": {},
   "outputs": [],
   "source": []
  },
  {
   "cell_type": "code",
   "execution_count": 10,
   "metadata": {},
   "outputs": [
    {
     "data": {
      "image/png": "[encoded data removed]",
      "text/plain": [
       "<Figure size 432x288 with 1 Axes>"
      ]
     },
     "metadata": {},
     "output_type": "display_data"
    }
   ],
   "source": [
    "env = gym.make('Breakout-v0')\n",
    "env.reset()\n",
    "img = plt.imshow(env.render(mode='rgb_array')) # only call this once\n",
    "for _ in range(100):\n",
    "    img.set_data(env.render(mode='rgb_array')) # just update the data\n",
    "    display.display(plt.gcf())\n",
    "    display.clear_output(wait=True)\n",
    "    action = env.action_space.sample()\n",
    "    env.step(action)"
   ]
  },
  {
   "cell_type": "code",
   "execution_count": null,
   "metadata": {},
   "outputs": [],
   "source": []
  }
 ],
 "metadata": {
  "kernelspec": {
   "display_name": "Python 3",
   "language": "python",
   "name": "python3"
  },
  "language_info": {
   "codemirror_mode": {
    "name": "ipython",
    "version": 3
   },
   "file_extension": ".py",
   "mimetype": "text/x-python",
   "name": "python",
   "nbconvert_exporter": "python",
   "pygments_lexer": "ipython3",
   "version": "3.6.9"
  }
 },
 "nbformat": 4,
 "nbformat_minor": 2
}
