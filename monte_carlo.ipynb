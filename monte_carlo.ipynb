{
 "cells": [
  {
   "cell_type": "code",
   "execution_count": 1,
   "metadata": {},
   "outputs": [],
   "source": [
    "from pprint import pprint\n",
    "import numpy as np\n",
    "import gym\n",
    "from gym.envs.toy_text import frozen_lake"
   ]
  },
  {
   "cell_type": "code",
   "execution_count": 28,
   "metadata": {},
   "outputs": [],
   "source": [
    "ENV = gym.make('FrozenLake-v0')\n",
    "\n",
    "MAP =  ['S-------',\n",
    "        '--------',\n",
    "        '--------',\n",
    "        '--------',\n",
    "        '----H---',\n",
    "        '--------',\n",
    "        '-H------',\n",
    "        '---H---G']\n",
    "frozen_lake.MAPS['8x8'] = MAP\n",
    "ENV = gym.make('FrozenLake8x8-v0', is_slippery=False)\n",
    "\n",
    "ACTION_MAPPING = { 0: '←', 1: '↓', 2: '→', 3: '↑'}"
   ]
  },
  {
   "cell_type": "code",
   "execution_count": 29,
   "metadata": {},
   "outputs": [],
   "source": [
    "def print_state_value_func(V):\n",
    "    print(' V(s):')\n",
    "    print(np.round_(V, 2).reshape(8, 8), '\\n')\n",
    "\n",
    "def print_policy(policy: np.ndarray):\n",
    "    print(' POLICY: ')\n",
    "    temp_policy = np.argmax(policy, axis = 1)\n",
    "    temp_map = ''.join(MAP)\n",
    "    string_map = list()\n",
    "    for idx, action in enumerate(temp_policy):\n",
    "        if temp_map[idx] == 'H':\n",
    "            string_map.append('□')\n",
    "        else:\n",
    "            string_map.append(ACTION_MAPPING[action])\n",
    "    string_map = np.array(string_map).reshape((8, 8))\n",
    "    print(string_map, '\\n')"
   ]
  },
  {
   "cell_type": "code",
   "execution_count": 44,
   "metadata": {},
   "outputs": [],
   "source": [
    "def evaluate_policy_MC_first_visit(gym_env,\n",
    "                                   discount_factor = 1.0,\n",
    "                                   max_iter = 9999,\n",
    "                                   incremental = False):\n",
    "    print('     POLICY EVALUATION: MONTE CARLO FIRST VISIT!\\n')\n",
    "    # Init policy with equal prob for all actions\n",
    "    policy = np.ones([gym_env.nS, gym_env.nA]) / gym_env.nA\n",
    "\n",
    "    V = np.zeros(gym_env.nS)\n",
    "    N = np.zeros_like(V, dtype=int)\n",
    "    G = np.zeros_like(V)\n",
    "\n",
    "    for _ in range(max_iter):\n",
    "        episode = list()\n",
    "        state_2_first_idx = dict()\n",
    "        state = gym_env.reset()\n",
    "        counter = 0\n",
    "        \n",
    "        while True:\n",
    "            if state not in state_2_first_idx.keys():\n",
    "                state_2_first_idx[state] = counter\n",
    "                \n",
    "            action_list_prob = policy[state].tolist()\n",
    "            action = np.random.choice(range(gym_env.nA), p=action_list_prob)\n",
    "            \n",
    "            next_state, reward, terminated, info = gym_env.step(action)\n",
    "            episode.append((state, action, reward))\n",
    "            state = next_state\n",
    "            \n",
    "            if terminated:\n",
    "                break\n",
    "            counter += 1\n",
    "\n",
    "        for state, first_idx in state_2_first_idx.items():\n",
    "            N[state] += 1\n",
    "            for i, (_, _, reward) in enumerate(episode[first_idx:]):\n",
    "                G[state] += (discount_factor**i) * reward\n",
    "\n",
    "    for state in range(gym_env.nS):\n",
    "        if N[state] != 0:\n",
    "            if incremental:\n",
    "                alpha = 1 / N[state]\n",
    "                V[state] += alpha * (G[state] - V[state])\n",
    "            else:\n",
    "                V[state] = float(G[state] / N[state])\n",
    "\n",
    "#     print(f'POLICY EVALUATION: reached max number of iterations ({max_iter})\\n')\n",
    "    return V"
   ]
  },
  {
   "cell_type": "code",
   "execution_count": 45,
   "metadata": {},
   "outputs": [],
   "source": [
    "def evaluate_policy_MC_every_visit(gym_env,\n",
    "                                   discount_factor = 1.0,\n",
    "                                   max_iter = 9999,\n",
    "                                   incremental = False):\n",
    "    print('     POLICY EVALUATION: MONTE CARLO EVERY VISIT!\\n')\n",
    "    # Init policy with equal prob for all actions\n",
    "    policy = np.ones([gym_env.nS, gym_env.nA]) / gym_env.nA\n",
    "\n",
    "    V = np.zeros(gym_env.nS)\n",
    "    N = np.zeros_like(V, dtype=int)\n",
    "    G = np.zeros_like(V)\n",
    "\n",
    "    for _ in range(max_iter):\n",
    "        episode = list()\n",
    "        state = gym_env.reset()\n",
    "        terminated = False\n",
    "        \n",
    "        while not terminated:                \n",
    "            action_list_prob = policy[state].tolist()\n",
    "            action = np.random.choice(range(gym_env.nA), p=action_list_prob)\n",
    "            \n",
    "            next_state, reward, terminated, info = gym_env.step(action)\n",
    "            episode.append((state, action, reward))\n",
    "            state = next_state\n",
    "\n",
    "        for idx, (state, _, _) in enumerate(episode):\n",
    "            N[state] += 1\n",
    "            for i, (_, _, reward) in enumerate(episode[idx:]):\n",
    "                G[state] += (discount_factor**i) * reward\n",
    "\n",
    "    for state in range(gym_env.nS):\n",
    "        if N[state] != 0:\n",
    "            if incremental:\n",
    "                alpha = 1 / N[state]\n",
    "                V[state] += alpha * (G[state] - V[state])\n",
    "            else:\n",
    "                V[state] = float(G[state] / N[state])\n",
    "\n",
    "#     print(f'POLICY EVALUATION: reached max number of iterations ({max_iter})\\n')\n",
    "    return V"
   ]
  },
  {
   "cell_type": "code",
   "execution_count": 46,
   "metadata": {},
   "outputs": [
    {
     "name": "stdout",
     "output_type": "stream",
     "text": [
      "     POLICY EVALUATION: MONTE CARLO FIRST VISIT!\n",
      "\n",
      " V(s):\n",
      "[[0.07 0.08 0.08 0.09 0.1  0.12 0.13 0.14]\n",
      " [0.07 0.07 0.08 0.09 0.1  0.13 0.15 0.15]\n",
      " [0.06 0.07 0.07 0.08 0.1  0.13 0.16 0.18]\n",
      " [0.05 0.06 0.06 0.07 0.07 0.14 0.19 0.22]\n",
      " [0.04 0.04 0.05 0.05 0.   0.15 0.25 0.31]\n",
      " [0.02 0.03 0.04 0.07 0.12 0.23 0.35 0.43]\n",
      " [0.01 0.   0.03 0.06 0.16 0.31 0.47 0.63]\n",
      " [0.01 0.   0.01 0.   0.16 0.36 0.62 0.  ]] \n",
      "\n"
     ]
    }
   ],
   "source": [
    "V1 = evaluate_policy_MC_first_visit(ENV)\n",
    "print_state_value_func(V1)"
   ]
  },
  {
   "cell_type": "code",
   "execution_count": 47,
   "metadata": {},
   "outputs": [
    {
     "name": "stdout",
     "output_type": "stream",
     "text": [
      "     POLICY EVALUATION: MONTE CARLO EVERY VISIT!\n",
      "\n",
      " V(s):\n",
      "[[0.07 0.07 0.08 0.09 0.1  0.11 0.12 0.13]\n",
      " [0.06 0.07 0.07 0.08 0.09 0.11 0.14 0.15]\n",
      " [0.06 0.06 0.06 0.07 0.08 0.12 0.16 0.18]\n",
      " [0.05 0.05 0.05 0.05 0.07 0.13 0.18 0.22]\n",
      " [0.04 0.04 0.04 0.04 0.   0.15 0.23 0.29]\n",
      " [0.02 0.03 0.04 0.06 0.11 0.23 0.33 0.4 ]\n",
      " [0.01 0.   0.03 0.06 0.16 0.31 0.46 0.61]\n",
      " [0.02 0.02 0.02 0.   0.17 0.39 0.65 0.  ]] \n",
      "\n"
     ]
    }
   ],
   "source": [
    "V2 = evaluate_policy_MC_every_visit(ENV)\n",
    "print_state_value_func(V2)"
   ]
  },
  {
   "cell_type": "code",
   "execution_count": 48,
   "metadata": {},
   "outputs": [
    {
     "name": "stdout",
     "output_type": "stream",
     "text": [
      "     POLICY EVALUATION: MONTE CARLO FIRST VISIT!\n",
      "\n",
      " V(s):\n",
      "[[0.07 0.07 0.08 0.09 0.11 0.12 0.13 0.14]\n",
      " [0.07 0.07 0.08 0.09 0.1  0.12 0.14 0.16]\n",
      " [0.06 0.06 0.07 0.08 0.09 0.12 0.16 0.18]\n",
      " [0.05 0.05 0.06 0.06 0.07 0.13 0.19 0.23]\n",
      " [0.03 0.04 0.05 0.04 0.   0.14 0.25 0.3 ]\n",
      " [0.02 0.02 0.04 0.06 0.1  0.23 0.35 0.44]\n",
      " [0.01 0.   0.03 0.06 0.15 0.31 0.48 0.64]\n",
      " [0.01 0.01 0.01 0.   0.17 0.36 0.62 0.  ]] \n",
      "\n"
     ]
    }
   ],
   "source": [
    "V3 = evaluate_policy_MC_first_visit(ENV, incremental = True)\n",
    "print_state_value_func(V3)"
   ]
  },
  {
   "cell_type": "code",
   "execution_count": 49,
   "metadata": {},
   "outputs": [
    {
     "name": "stdout",
     "output_type": "stream",
     "text": [
      "     POLICY EVALUATION: MONTE CARLO EVERY VISIT!\n",
      "\n",
      " V(s):\n",
      "[[0.07 0.07 0.07 0.08 0.1  0.11 0.12 0.14]\n",
      " [0.06 0.07 0.07 0.08 0.1  0.11 0.14 0.15]\n",
      " [0.06 0.06 0.07 0.08 0.09 0.12 0.15 0.18]\n",
      " [0.05 0.05 0.06 0.06 0.08 0.13 0.18 0.22]\n",
      " [0.04 0.04 0.04 0.04 0.   0.16 0.26 0.29]\n",
      " [0.02 0.03 0.04 0.07 0.1  0.23 0.36 0.42]\n",
      " [0.01 0.   0.03 0.07 0.17 0.31 0.48 0.63]\n",
      " [0.01 0.   0.01 0.   0.16 0.34 0.58 0.  ]] \n",
      "\n"
     ]
    }
   ],
   "source": [
    "V4 = evaluate_policy_MC_every_visit(ENV, incremental = True)\n",
    "print_state_value_func(V4)"
   ]
  },
  {
   "cell_type": "code",
   "execution_count": null,
   "metadata": {},
   "outputs": [],
   "source": []
  }
 ],
 "metadata": {
  "kernelspec": {
   "display_name": "Python 3",
   "language": "python",
   "name": "python3"
  },
  "language_info": {
   "codemirror_mode": {
    "name": "ipython",
    "version": 3
   },
   "file_extension": ".py",
   "mimetype": "text/x-python",
   "name": "python",
   "nbconvert_exporter": "python",
   "pygments_lexer": "ipython3",
   "version": "3.6.9"
  }
 },
 "nbformat": 4,
 "nbformat_minor": 2
}
